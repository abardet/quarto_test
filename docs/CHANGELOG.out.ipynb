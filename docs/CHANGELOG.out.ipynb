{
 "cells": [
  {
   "cell_type": "markdown",
   "metadata": {},
   "source": [
    "# \n",
    "\n",
    "# Changelog\n",
    "\n",
    "All notable changes to this project will be documented in this file. See [Conventional Commits](https://conventionalcommits.org) for commit guidelines.\n",
    "\n",
    "## [1.1.0](https://github.com/abardet/quarto_test/compare/v1.0.0...v1.1.0) (2024-04-11)\n",
    "\n",
    "### Features\n",
    "\n",
    "-   create LICENSE ([57e9f79](https://github.com/abardet/quarto_test/commit/57e9f7927ad43557b192ae86ba8c0027addb1e4a))\n",
    "\n",
    "## 1.0.0 (2024-04-11)\n",
    "\n",
    "### Features\n",
    "\n",
    "-   create README.md ([1647e54](https://github.com/abardet/quarto_test/commit/1647e54e91ec2820d2924f3fc588957a2fd62b2a))"
   ],
   "id": "c82b40e4-0650-43c9-b1b4-0e823018ed01"
  }
 ],
 "nbformat": 4,
 "nbformat_minor": 5,
 "metadata": {}
}
